{
 "cells": [
  {
   "cell_type": "markdown",
   "metadata": {},
   "source": [
    "# Jupyter Markdown\n",
    "## Jupyter Markdown\n",
    "### Jupyter Markdown\n",
    "#### Jupyter Markdown\n",
    "##### Jupyter Markdown"
   ]
  },
  {
   "cell_type": "markdown",
   "metadata": {},
   "source": [
    "- **point 1**\n",
    "    - **sub point 1.1**\n",
    "    - *sub point 1.2*\n",
    "    - ***sub point 1.3***\n",
    "\n",
    "- point 2\n",
    "- point 3"
   ]
  },
  {
   "cell_type": "markdown",
   "metadata": {},
   "source": [
    "### Python Introduction\n",
    "- PYthon 3\n",
    "- Python can be used as functional programming\n",
    "- Python can be used as scripting programming\n",
    "- Python initially designed by **Guido Van Rossum** in 1991"
   ]
  },
  {
   "cell_type": "code",
   "execution_count": 2,
   "metadata": {},
   "outputs": [
    {
     "name": "stdout",
     "output_type": "stream",
     "text": [
      "Hello World\n",
      "Welcome to Python Programming\n"
     ]
    }
   ],
   "source": [
    "# Input and Output Function\n",
    "# Output Function\n",
    "print(\"Hello World\")\n",
    "print(\"Welcome to Python Programming\")"
   ]
  },
  {
   "cell_type": "code",
   "execution_count": 4,
   "metadata": {},
   "outputs": [
    {
     "name": "stdout",
     "output_type": "stream",
     "text": [
      "Markdown cell Code cell\n"
     ]
    }
   ],
   "source": [
    "print(\"Markdown cell\",end =' ')\n",
    "print(\"Code cell\")"
   ]
  },
  {
   "cell_type": "code",
   "execution_count": 5,
   "metadata": {},
   "outputs": [
    {
     "name": "stdout",
     "output_type": "stream",
     "text": [
      "Enter Your Name:\n",
      " Nikhila\n",
      "Your Name is Nikhila\n"
     ]
    }
   ],
   "source": [
    "# Input Function\n",
    "print(\"Enter Your Name:\")\n",
    "a=input(' ')\n",
    "print(\"Your Name is\",a)"
   ]
  },
  {
   "cell_type": "code",
   "execution_count": 1,
   "metadata": {},
   "outputs": [
    {
     "name": "stdout",
     "output_type": "stream",
     "text": [
      "Enter a,b values\n",
      "Enter a value2\n",
      "enter b value3\n",
      "5\n"
     ]
    }
   ],
   "source": [
    "# Input Function\n",
    "print(\"Enter a,b values\")\n",
    "a=int(input('Enter a value'))\n",
    "b=int(input('enter b value'))\n",
    "print(a+b)"
   ]
  },
  {
   "cell_type": "code",
   "execution_count": 2,
   "metadata": {},
   "outputs": [
    {
     "name": "stdout",
     "output_type": "stream",
     "text": [
      "enter your namenikhila\n",
      "enter your age20\n",
      "my name is nikhila age is 20\n"
     ]
    }
   ],
   "source": [
    "# accept name and age of a person and print the output in the following manner\n",
    "# output:my name is nikhila and age is 20\n",
    "# input function\n",
    "name=input(\"enter your name\")\n",
    "age=int(input(\"enter your age\"))\n",
    "print(\"my name is\",name,\"age is\",age)"
   ]
  },
  {
   "cell_type": "markdown",
   "metadata": {},
   "source": [
    "# Data Types:\n",
    "\n",
    "- ****Fundamental datatypes:****\n",
    "      1.int\n",
    "      2.float\n",
    "      3.complex\n",
    "      4.boolean\n",
    "      5.string\n",
    "      \n",
    "- ****Collection datatypes:****\n",
    "      1.list\n",
    "      2.tuples\n",
    "      3.dictionary\n",
    "      \n"
   ]
  },
  {
   "cell_type": "code",
   "execution_count": 3,
   "metadata": {},
   "outputs": [
    {
     "name": "stdout",
     "output_type": "stream",
     "text": [
      "(11+10j)\n",
      "(-3+2j)\n"
     ]
    }
   ],
   "source": [
    "c1=4+6j\n",
    "c2=7+4j\n",
    "print(c1+c2)\n",
    "print(c1-c2)"
   ]
  },
  {
   "cell_type": "code",
   "execution_count": 4,
   "metadata": {},
   "outputs": [
    {
     "name": "stdout",
     "output_type": "stream",
     "text": [
      "True <class 'bool'>\n"
     ]
    }
   ],
   "source": [
    "a=12<45\n",
    "print(a,type(a))"
   ]
  },
  {
   "cell_type": "code",
   "execution_count": 15,
   "metadata": {},
   "outputs": [
    {
     "name": "stdout",
     "output_type": "stream",
     "text": [
      "c\n",
      "c\n",
      "xyz\n",
      "xy\n",
      "j\n",
      "asfh\n",
      "ah\n"
     ]
    }
   ],
   "source": [
    "# strings-->start=0,end=length of the string\n",
    "s1=\"abc xyz\"\n",
    "s2='asfhj'\n",
    "print(s1[2])\n",
    "print(s1[-5])\n",
    "print(s1[4:7])# slicing\n",
    "print(s1[-3:-1])\n",
    "print(s2[4:])\n",
    "print(s2[:-1])\n",
    "print(s2[::3])"
   ]
  },
  {
   "cell_type": "code",
   "execution_count": 25,
   "metadata": {},
   "outputs": [
    {
     "name": "stdout",
     "output_type": "stream",
     "text": [
      "ython\n",
      "nohtyp\n",
      "pythoz\n"
     ]
    }
   ],
   "source": [
    "# strings reverse\n",
    "str1=\"python\"\n",
    "print(str1[1:6])\n",
    "print(str1[::-1])\n",
    "str1 = str1.replace('n','z')\n",
    "print(str1) "
   ]
  },
  {
   "cell_type": "code",
   "execution_count": 30,
   "metadata": {},
   "outputs": [
    {
     "name": "stdout",
     "output_type": "stream",
     "text": [
      "palindrome\n"
     ]
    }
   ],
   "source": [
    "# accept a string as an input and check whether the string is a palindrome or not\n",
    "str = \"madam\"\n",
    "if str==str[::-1]:\n",
    "    print(\"palindrome\")\n",
    "else:\n",
    "    print(\"not a palindrome\")"
   ]
  },
  {
   "cell_type": "code",
   "execution_count": 34,
   "metadata": {},
   "outputs": [
    {
     "name": "stdout",
     "output_type": "stream",
     "text": [
      "True\n",
      "True\n",
      "True\n"
     ]
    }
   ],
   "source": [
    "str1 = \"abcdef\" \n",
    "str2 = \"123\"\n",
    "str3 = \"abc123\" \n",
    "print(str1.isalpha())\n",
    "print(str2.isdigit())\n",
    "print(str3.isalnum())"
   ]
  },
  {
   "cell_type": "code",
   "execution_count": 38,
   "metadata": {},
   "outputs": [
    {
     "name": "stdout",
     "output_type": "stream",
     "text": [
      "3\n",
      "1\n"
     ]
    }
   ],
   "source": [
    "str1=\"abc123\"\n",
    "print(max(str2))\n",
    "print(min(str2))"
   ]
  },
  {
   "cell_type": "code",
   "execution_count": null,
   "metadata": {},
   "outputs": [],
   "source": []
  }
 ],
 "metadata": {
  "kernelspec": {
   "display_name": "Python 3",
   "language": "python",
   "name": "python3"
  },
  "language_info": {
   "codemirror_mode": {
    "name": "ipython",
    "version": 3
   },
   "file_extension": ".py",
   "mimetype": "text/x-python",
   "name": "python",
   "nbconvert_exporter": "python",
   "pygments_lexer": "ipython3",
   "version": "3.7.4"
  }
 },
 "nbformat": 4,
 "nbformat_minor": 2
}

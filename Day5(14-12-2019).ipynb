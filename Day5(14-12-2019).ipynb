{
 "cells": [
  {
   "cell_type": "code",
   "execution_count": 1,
   "metadata": {},
   "outputs": [
    {
     "data": {
      "text/plain": [
       "3.3333333333333335"
      ]
     },
     "execution_count": 1,
     "metadata": {},
     "output_type": "execute_result"
    }
   ],
   "source": [
    "10/3"
   ]
  },
  {
   "cell_type": "code",
   "execution_count": 2,
   "metadata": {},
   "outputs": [
    {
     "data": {
      "text/plain": [
       "3"
      ]
     },
     "execution_count": 2,
     "metadata": {},
     "output_type": "execute_result"
    }
   ],
   "source": [
    "10//3"
   ]
  },
  {
   "cell_type": "code",
   "execution_count": 3,
   "metadata": {},
   "outputs": [
    {
     "data": {
      "text/plain": [
       "8"
      ]
     },
     "execution_count": 3,
     "metadata": {},
     "output_type": "execute_result"
    }
   ],
   "source": [
    "2**3"
   ]
  },
  {
   "cell_type": "code",
   "execution_count": 4,
   "metadata": {},
   "outputs": [
    {
     "data": {
      "text/plain": [
       "True"
      ]
     },
     "execution_count": 4,
     "metadata": {},
     "output_type": "execute_result"
    }
   ],
   "source": [
    "12<45 or 34>89"
   ]
  },
  {
   "cell_type": "code",
   "execution_count": 5,
   "metadata": {},
   "outputs": [
    {
     "data": {
      "text/plain": [
       "True"
      ]
     },
     "execution_count": 5,
     "metadata": {},
     "output_type": "execute_result"
    }
   ],
   "source": [
    "not 12>45"
   ]
  },
  {
   "cell_type": "code",
   "execution_count": 9,
   "metadata": {},
   "outputs": [
    {
     "name": "stdout",
     "output_type": "stream",
     "text": [
      "True\n",
      "True\n",
      "True\n"
     ]
    }
   ],
   "source": [
    "# Membership Operators -->in , not in\n",
    "str1 = \"abc xyz 123\"\n",
    "'n' in str1\n",
    "print(\"abc\" in str1)\n",
    "print(\"n\" not in str1)\n",
    "print(\"123\" in str1)"
   ]
  },
  {
   "cell_type": "code",
   "execution_count": 11,
   "metadata": {},
   "outputs": [
    {
     "data": {
      "text/plain": [
       "True"
      ]
     },
     "execution_count": 11,
     "metadata": {},
     "output_type": "execute_result"
    }
   ],
   "source": [
    "# Identity Operators-->is,is not\n",
    "x = 19\n",
    "y = 19\n",
    "x is y"
   ]
  },
  {
   "cell_type": "code",
   "execution_count": 12,
   "metadata": {},
   "outputs": [
    {
     "name": "stdout",
     "output_type": "stream",
     "text": [
      "140719430935504 140719430935504\n"
     ]
    }
   ],
   "source": [
    "print(id(x),id(y))"
   ]
  },
  {
   "cell_type": "code",
   "execution_count": 13,
   "metadata": {},
   "outputs": [
    {
     "name": "stdout",
     "output_type": "stream",
     "text": [
      "x<y\n"
     ]
    }
   ],
   "source": [
    "x = 19\n",
    "y = 20\n",
    "print(\"x<y\") if x<y else print(\"x>y\")"
   ]
  },
  {
   "cell_type": "code",
   "execution_count": 17,
   "metadata": {},
   "outputs": [
    {
     "name": "stdout",
     "output_type": "stream",
     "text": [
      "x<y\n",
      "hello\n",
      "jupyter\n"
     ]
    }
   ],
   "source": [
    "if x<y:\n",
    "    print(\"x<y\")\n",
    "    if 12<78:\n",
    "        print(\"hello\")\n",
    "        print(\"jupyter\")\n",
    "    else:\n",
    "        print(\"hai\")\n",
    "else:    \n",
    "    print(\"x>y\")\n",
    "    "
   ]
  },
  {
   "cell_type": "code",
   "execution_count": 21,
   "metadata": {},
   "outputs": [
    {
     "name": "stdout",
     "output_type": "stream",
     "text": [
      "enter a number9\n",
      "it is a positive number\n"
     ]
    }
   ],
   "source": [
    "# Accept a no as an input and print whether the given number is positive or negative or zero\n",
    "a = int(input(\"enter a number\"))\n",
    "if a>0:\n",
    "    print(\"it is a positive number\")\n",
    "elif a<0:\n",
    "        print(\"it is a negative number\")\n",
    "elif a==0:\n",
    "    print(\"a value is zero\")"
   ]
  },
  {
   "cell_type": "code",
   "execution_count": 27,
   "metadata": {},
   "outputs": [
    {
     "name": "stdout",
     "output_type": "stream",
     "text": [
      "enter a number6\n",
      "divisible by 2 and 3 only\n"
     ]
    }
   ],
   "source": [
    "# Accept a number as an input and print the number if it is\n",
    "# Divisible by 2 and 3 but not 4\n",
    "a = int(input(\"enter a number\"))\n",
    "if (a%2==0 and a%3==0) and (a%4!=0):\n",
    "    print(\"divisible by 2 and 3 only\")"
   ]
  },
  {
   "cell_type": "code",
   "execution_count": 36,
   "metadata": {},
   "outputs": [
    {
     "name": "stdout",
     "output_type": "stream",
     "text": [
      "enter subject1 marks80\n",
      "enter subject2 marks80\n",
      "enter subject3 marks80\n",
      "A\n"
     ]
    }
   ],
   "source": [
    "# Accept 3 subjects marks of a student \n",
    "# if he gets >30 in all subjects -->average\n",
    "# if he gets <30 in all subjects -->fail\n",
    "# if avg>75 -->'A'\n",
    "# if avg<75 -->'B'\n",
    "# if avg<65 -->'C'\n",
    "# if avg<50 -->'D'\n",
    "# else -->fail\n",
    "s1 = int(input(\"enter subject1 marks\"))\n",
    "s2 = int(input(\"enter subject2 marks\"))\n",
    "s3 = int(input(\"enter subject3 marks\"))\n",
    "if (s1>30 and s2>30 and s3>30):\n",
    "    avg = (s1+s2+s3)/3\n",
    "    if avg>75:\n",
    "         print(\"A\")\n",
    "    elif avg>65 and avg<75:\n",
    "        print(\"B\")\n",
    "    elif avg>50 and avg<65:\n",
    "        print(\"C\")\n",
    "    elif avg>30 and avg<50:\n",
    "        print(\"D\")\n",
    "    else:\n",
    "        print(\"Fail\")\n",
    "else:\n",
    "    print(\"Fail\")"
   ]
  },
  {
   "cell_type": "code",
   "execution_count": 38,
   "metadata": {},
   "outputs": [
    {
     "name": "stdout",
     "output_type": "stream",
     "text": [
      "50 30 40\n",
      "Fail\n"
     ]
    }
   ],
   "source": [
    "# Accept 3 subjects marks of a student \n",
    "# if he gets >30 in all subjects -->average\n",
    "# if he gets <30 in all subjects -->fail\n",
    "# if avg>75 -->'A'\n",
    "# if avg<75 -->'B'\n",
    "# if avg<65 -->'C'\n",
    "# if avg<50 -->'D'\n",
    "# else -->fail\n",
    "s1,s2,s3 = map(int,input().split())\n",
    "if (s1>30 and s2>30 and s3>30):\n",
    "    avg = (s1+s2+s3)/3\n",
    "    if avg>75:\n",
    "         print(\"A\")\n",
    "    elif avg>65 and avg<75:\n",
    "        print(\"B\")\n",
    "    elif avg>50 and avg<65:\n",
    "        print(\"C\")\n",
    "    elif avg>30 and avg<50:\n",
    "        print(\"D\")\n",
    "    else:\n",
    "        print(\"Fail\")\n",
    "else:\n",
    "    print(\"Fail\")"
   ]
  },
  {
   "cell_type": "code",
   "execution_count": 1,
   "metadata": {},
   "outputs": [
    {
     "name": "stdout",
     "output_type": "stream",
     "text": [
      "10\n",
      "1 2 3 4 5 6 7 8 9 10 "
     ]
    }
   ],
   "source": [
    "# while loop\n",
    "i = 1\n",
    "n = int(input())\n",
    "while i<=n:\n",
    "    print(i,end =\" \")\n",
    "    i += 1"
   ]
  },
  {
   "cell_type": "code",
   "execution_count": 42,
   "metadata": {},
   "outputs": [
    {
     "name": "stdout",
     "output_type": "stream",
     "text": [
      "10\n",
      "55\n"
     ]
    }
   ],
   "source": [
    "# sum of n natural numbers in the given range\n",
    "i = 1\n",
    "sum = 0\n",
    "n = int(input())\n",
    "while i<=n:\n",
    "    sum += i\n",
    "    i += 1\n",
    "print(sum)"
   ]
  },
  {
   "cell_type": "code",
   "execution_count": 1,
   "metadata": {},
   "outputs": [
    {
     "name": "stdout",
     "output_type": "stream",
     "text": [
      "19\n",
      "90\n"
     ]
    }
   ],
   "source": [
    "# sum of n even natural numbers in the given range!\n",
    "i = 1\n",
    "sum = 0\n",
    "n = int(input())\n",
    "while i<=n:\n",
    "    if i%2 == 0:\n",
    "        sum += i\n",
    "    i += 1\n",
    "print(sum)"
   ]
  },
  {
   "cell_type": "code",
   "execution_count": 7,
   "metadata": {},
   "outputs": [
    {
     "name": "stdout",
     "output_type": "stream",
     "text": [
      "123\n",
      "321"
     ]
    }
   ],
   "source": [
    "# print digits of a given number\n",
    "a = int(input())\n",
    "while a!=0:\n",
    "    print(a%10,end ='')\n",
    "    a = a//10"
   ]
  },
  {
   "cell_type": "code",
   "execution_count": 10,
   "metadata": {},
   "outputs": [
    {
     "name": "stdout",
     "output_type": "stream",
     "text": [
      "124\n",
      "7\n"
     ]
    }
   ],
   "source": [
    "# print the addition of given numbers\n",
    "a = int(input())\n",
    "sum = 0\n",
    "while a!=0:\n",
    "    sum = sum+a%10\n",
    "    a = a//10\n",
    "print(sum)"
   ]
  },
  {
   "cell_type": "code",
   "execution_count": 1,
   "metadata": {},
   "outputs": [
    {
     "name": "stdout",
     "output_type": "stream",
     "text": [
      "26\n"
     ]
    }
   ],
   "source": [
    "str1 = \"application1889\"\n",
    "# sum of digits in the given string-->1+8+8+9=26\n",
    "i = 0\n",
    "sum = 0\n",
    "while i<len(str1):\n",
    "    if str1[i].isdigit():\n",
    "        sum += int(str1[i])\n",
    "    i += 1\n",
    "print(sum)"
   ]
  },
  {
   "cell_type": "code",
   "execution_count": 2,
   "metadata": {},
   "outputs": [
    {
     "data": {
      "text/plain": [
       "97"
      ]
     },
     "execution_count": 2,
     "metadata": {},
     "output_type": "execute_result"
    }
   ],
   "source": [
    "ord('a')"
   ]
  },
  {
   "cell_type": "code",
   "execution_count": 8,
   "metadata": {},
   "outputs": [
    {
     "name": "stdout",
     "output_type": "stream",
     "text": [
      "26\n"
     ]
    }
   ],
   "source": [
    "str1 = \"application1889\"\n",
    "# sum of digits in the given string-->1+8+8+9=26\n",
    "i = 0\n",
    "sum = 0\n",
    "while i<len(str1):\n",
    "    if ord(str1[i])>=48 and ord(str1[i])<=57:\n",
    "        sum += int(str1[i])\n",
    "    i += 1\n",
    "print(sum)"
   ]
  },
  {
   "cell_type": "code",
   "execution_count": 5,
   "metadata": {},
   "outputs": [
    {
     "name": "stdout",
     "output_type": "stream",
     "text": [
      "26\n"
     ]
    }
   ],
   "source": [
    "i = 0\n",
    "sum = 0\n",
    "for i in str1:\n",
    "    if i.isdigit():\n",
    "        sum += int(i)\n",
    "print(sum)"
   ]
  },
  {
   "cell_type": "code",
   "execution_count": 9,
   "metadata": {},
   "outputs": [
    {
     "name": "stdout",
     "output_type": "stream",
     "text": [
      "26\n"
     ]
    }
   ],
   "source": [
    "s = 0\n",
    "for i in str1:\n",
    "    if i.isdigit():\n",
    "        s += int(i)\n",
    "print(s)"
   ]
  },
  {
   "cell_type": "code",
   "execution_count": 10,
   "metadata": {},
   "outputs": [
    {
     "ename": "SyntaxError",
     "evalue": "invalid syntax (<ipython-input-10-60ececf27cc7>, line 2)",
     "output_type": "error",
     "traceback": [
      "\u001b[1;36m  File \u001b[1;32m\"<ipython-input-10-60ececf27cc7>\"\u001b[1;36m, line \u001b[1;32m2\u001b[0m\n\u001b[1;33m    a int(input())\u001b[0m\n\u001b[1;37m        ^\u001b[0m\n\u001b[1;31mSyntaxError\u001b[0m\u001b[1;31m:\u001b[0m invalid syntax\n"
     ]
    }
   ],
   "source": [
    "# sum of n natural numbers\n",
    "a = int(input(\"enter a number\"))\n",
    "for i in str1(1,a+1)\n",
    "     "
   ]
  },
  {
   "cell_type": "code",
   "execution_count": null,
   "metadata": {},
   "outputs": [],
   "source": [
    "# input:\n",
    "    s1 = \"abcdefghijklmnopqrstuvwxyz\"\n",
    "    width = 4\n",
    "a = int(input())"
   ]
  }
 ],
 "metadata": {
  "kernelspec": {
   "display_name": "Python 3",
   "language": "python",
   "name": "python3"
  },
  "language_info": {
   "codemirror_mode": {
    "name": "ipython",
    "version": 3
   },
   "file_extension": ".py",
   "mimetype": "text/x-python",
   "name": "python",
   "nbconvert_exporter": "python",
   "pygments_lexer": "ipython3",
   "version": "3.7.4"
  }
 },
 "nbformat": 4,
 "nbformat_minor": 2
}
